{
 "cells": [
  {
   "cell_type": "code",
   "execution_count": null,
   "id": "ff05ec32",
   "metadata": {},
   "outputs": [],
   "source": [
    "#Multiple Inheritence is basically when class is inherited from more than one base class\n",
    "\n",
    "\n",
    "##Base Class 1\n",
    "class Animal:\n",
    "    def __init__(self, name):\n",
    "        self.name= name\n",
    "\n",
    "    def speak(self):\n",
    "        print(\"subclass must implement this method\")  "
   ]
  },
  {
   "cell_type": "code",
   "execution_count": 4,
   "id": "2cde7395",
   "metadata": {},
   "outputs": [],
   "source": [
    "##Base class 2\n",
    "class pet:\n",
    "    def __init__(self, owner):\n",
    "        self.owner= owner\n",
    "\n",
    "    "
   ]
  },
  {
   "cell_type": "code",
   "execution_count": 5,
   "id": "45aa92ad",
   "metadata": {},
   "outputs": [],
   "source": [
    "## Derived Class\n",
    "class Dog(Animal, pet):\n",
    "    def __init__(self, name, owner):\n",
    "        Animal.__init__(self, name)\n",
    "        pet.__init__(self,owner)\n",
    "\n",
    "    def speak(self):\n",
    "        return f\"{self.name} say woof\""
   ]
  },
  {
   "cell_type": "code",
   "execution_count": 7,
   "id": "f83bc736",
   "metadata": {},
   "outputs": [
    {
     "data": {
      "text/plain": [
       "'snow  say woof'"
      ]
     },
     "execution_count": 7,
     "metadata": {},
     "output_type": "execute_result"
    }
   ],
   "source": [
    "##Creating an object:\n",
    "dog= Dog(\"snow \", \"Areeba\")\n",
    "dog.speak()"
   ]
  },
  {
   "cell_type": "code",
   "execution_count": null,
   "id": "6f50f88e",
   "metadata": {},
   "outputs": [],
   "source": []
  }
 ],
 "metadata": {
  "kernelspec": {
   "display_name": "Python 3",
   "language": "python",
   "name": "python3"
  },
  "language_info": {
   "codemirror_mode": {
    "name": "ipython",
    "version": 3
   },
   "file_extension": ".py",
   "mimetype": "text/x-python",
   "name": "python",
   "nbconvert_exporter": "python",
   "pygments_lexer": "ipython3",
   "version": "3.13.5"
  }
 },
 "nbformat": 4,
 "nbformat_minor": 5
}
