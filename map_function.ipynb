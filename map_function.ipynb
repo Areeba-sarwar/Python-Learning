{
 "cells": [
  {
   "cell_type": "markdown",
   "id": "85e04e43",
   "metadata": {},
   "source": [
    "Map Functions:"
   ]
  },
  {
   "cell_type": "markdown",
   "id": "bb1f3455",
   "metadata": {},
   "source": [
    "The map function applies the given function to all the input. and returens a map object as output."
   ]
  },
  {
   "cell_type": "code",
   "execution_count": 4,
   "id": "6821e3a7",
   "metadata": {},
   "outputs": [
    {
     "name": "stdout",
     "output_type": "stream",
     "text": [
      "[1, 4, 9, 16, 25, 36, 49]\n",
      "(1, 4, 9, 16, 25, 36, 49)\n"
     ]
    }
   ],
   "source": [
    "#Map Functions:\n",
    "def square(x):\n",
    "    return x*x\n",
    "\n",
    "numbers= [1,2,3,4,5,6,7]\n",
    "print(list(map(square,numbers)))\n",
    "print(tuple(map(square,numbers)))\n"
   ]
  },
  {
   "cell_type": "code",
   "execution_count": null,
   "id": "904fb9bf",
   "metadata": {},
   "outputs": [],
   "source": []
  }
 ],
 "metadata": {
  "kernelspec": {
   "display_name": "Python 3",
   "language": "python",
   "name": "python3"
  },
  "language_info": {
   "codemirror_mode": {
    "name": "ipython",
    "version": 3
   },
   "file_extension": ".py",
   "mimetype": "text/x-python",
   "name": "python",
   "nbconvert_exporter": "python",
   "pygments_lexer": "ipython3",
   "version": "3.13.5"
  }
 },
 "nbformat": 4,
 "nbformat_minor": 5
}
