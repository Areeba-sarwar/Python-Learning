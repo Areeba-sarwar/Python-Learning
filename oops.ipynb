{
 "cells": [
  {
   "cell_type": "markdown",
   "id": "eaaec8c8",
   "metadata": {},
   "source": [
    "Classes & Objects:"
   ]
  },
  {
   "cell_type": "markdown",
   "id": "a0b5f0a4",
   "metadata": {},
   "source": [
    "OOPs (Object Oriented Programming) is a paradiagm that uses objects to design applications and computer programs."
   ]
  },
  {
   "cell_type": "code",
   "execution_count": 1,
   "id": "c13c68b1",
   "metadata": {},
   "outputs": [
    {
     "data": {
      "text/plain": [
       "__main__.car"
      ]
     },
     "execution_count": 1,
     "metadata": {},
     "output_type": "execute_result"
    }
   ],
   "source": [
    "#A class is a blueprint for creating objects. Atrributes and methods\n",
    "class car():\n",
    "    pass\n",
    "\n",
    "audi= car()\n",
    "BMW= car()\n",
    "Fortuner= car()\n",
    "\n",
    "type(audi)"
   ]
  },
  {
   "cell_type": "code",
   "execution_count": 4,
   "id": "256f222a",
   "metadata": {},
   "outputs": [
    {
     "name": "stdout",
     "output_type": "stream",
     "text": [
      "<__main__.car object at 0x00000262D6A53610>\n",
      "<__main__.car object at 0x00000262D6C48050>\n",
      "<__main__.car object at 0x00000262D6C48050>\n"
     ]
    }
   ],
   "source": [
    "print(Fortuner)\n",
    "print(audi)\n",
    "print(audi)"
   ]
  },
  {
   "cell_type": "code",
   "execution_count": 14,
   "id": "4127dbd1",
   "metadata": {},
   "outputs": [
    {
     "name": "stdout",
     "output_type": "stream",
     "text": [
      "German shepherd\n",
      "24\n"
     ]
    }
   ],
   "source": [
    "#Instance Variables and Methods\n",
    "class Dog:\n",
    "    ##constructor\n",
    "    def __init__(self,name,age):\n",
    "        self.name= name\n",
    "        self.age= age\n",
    "\n",
    "#Creating object\n",
    "dog1= Dog(\"German shepherd\", 24)\n",
    "print(dog1.name)\n",
    "print(dog1.age)\n",
    "\n"
   ]
  },
  {
   "cell_type": "code",
   "execution_count": 29,
   "id": "25fbef9d",
   "metadata": {},
   "outputs": [
    {
     "name": "stdout",
     "output_type": "stream",
     "text": [
      "45000\n",
      "60000 is deposited. and the new balance is 105000\n",
      "20000 is withdrawn and the new balance is 85000\n"
     ]
    }
   ],
   "source": [
    "#Modeling a Bank Acoount\n",
    "#Define a class for Bank Account\n",
    "class BankAccount:\n",
    "    def __init__(self,owner,balance=0):\n",
    "        self.owner=owner\n",
    "        self.balance= balance\n",
    "    \n",
    "    def deposit(self, amount):\n",
    "        self.balance+=amount\n",
    "        print(f\"{amount} is deposited. and the new balance is {self.balance}\")\n",
    "    \n",
    "    def withdraw(self, amount):\n",
    "        if amount>self.balance:\n",
    "            print(\"Insufficent Funds\")\n",
    "        else:\n",
    "            self.balance-=amount\n",
    "            print(f\"{amount} is withdrawn and the new balance is {self.balance}\")\n",
    "\n",
    "    def get_balance(self):\n",
    "        return self.balance\n",
    "    \n",
    "\n",
    "    #Create an Account\n",
    "    account= BankAccount(\"Areeba Sarwar\", 45000)\n",
    "    print(account.balance)\n",
    "    account.deposit(60000)\n",
    "    account.withdraw(20000)\n",
    "    "
   ]
  },
  {
   "cell_type": "code",
   "execution_count": null,
   "id": "8c6bec66",
   "metadata": {},
   "outputs": [],
   "source": []
  }
 ],
 "metadata": {
  "kernelspec": {
   "display_name": "Python 3",
   "language": "python",
   "name": "python3"
  },
  "language_info": {
   "codemirror_mode": {
    "name": "ipython",
    "version": 3
   },
   "file_extension": ".py",
   "mimetype": "text/x-python",
   "name": "python",
   "nbconvert_exporter": "python",
   "pygments_lexer": "ipython3",
   "version": "3.13.5"
  }
 },
 "nbformat": 4,
 "nbformat_minor": 5
}
