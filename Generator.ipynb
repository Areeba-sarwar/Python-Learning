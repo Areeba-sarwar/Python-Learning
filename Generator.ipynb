{
 "cells": [
  {
   "cell_type": "markdown",
   "id": "15283406",
   "metadata": {},
   "source": [
    "Generator:"
   ]
  },
  {
   "cell_type": "markdown",
   "id": "b6a78575",
   "metadata": {},
   "source": [
    "Gererator are the simpler way to create iterators.They use a yield keywords to produce a series of values lazily, which means they produce values on the fly and do not store them in memory"
   ]
  },
  {
   "cell_type": "code",
   "execution_count": 5,
   "id": "c8e68122",
   "metadata": {},
   "outputs": [],
   "source": [
    "def square(n):\n",
    "    for i in range(3):\n",
    "        yield i**2"
   ]
  },
  {
   "cell_type": "code",
   "execution_count": 6,
   "id": "08e79ec5",
   "metadata": {},
   "outputs": [
    {
     "data": {
      "text/plain": [
       "<generator object square at 0x00000138B9BFACF0>"
      ]
     },
     "execution_count": 6,
     "metadata": {},
     "output_type": "execute_result"
    }
   ],
   "source": [
    "square(3)"
   ]
  },
  {
   "cell_type": "code",
   "execution_count": 7,
   "id": "4fe0a0c3",
   "metadata": {},
   "outputs": [
    {
     "name": "stdout",
     "output_type": "stream",
     "text": [
      "0\n",
      "1\n",
      "4\n"
     ]
    }
   ],
   "source": [
    "for i in square(3):\n",
    "    print(i)"
   ]
  },
  {
   "cell_type": "code",
   "execution_count": 8,
   "id": "26d2c8a1",
   "metadata": {},
   "outputs": [
    {
     "data": {
      "text/plain": [
       "<generator object square at 0x00000138B9BFAA80>"
      ]
     },
     "execution_count": 8,
     "metadata": {},
     "output_type": "execute_result"
    }
   ],
   "source": [
    "a= square(3)\n",
    "a"
   ]
  },
  {
   "cell_type": "code",
   "execution_count": 12,
   "id": "5a79c4c6",
   "metadata": {},
   "outputs": [
    {
     "ename": "StopIteration",
     "evalue": "",
     "output_type": "error",
     "traceback": [
      "\u001b[31m---------------------------------------------------------------------------\u001b[39m",
      "\u001b[31mStopIteration\u001b[39m                             Traceback (most recent call last)",
      "\u001b[36mCell\u001b[39m\u001b[36m \u001b[39m\u001b[32mIn[12]\u001b[39m\u001b[32m, line 1\u001b[39m\n\u001b[32m----> \u001b[39m\u001b[32m1\u001b[39m \u001b[38;5;28;43mnext\u001b[39;49m\u001b[43m(\u001b[49m\u001b[43ma\u001b[49m\u001b[43m)\u001b[49m\n",
      "\u001b[31mStopIteration\u001b[39m: "
     ]
    }
   ],
   "source": [
    "next(a)"
   ]
  },
  {
   "cell_type": "code",
   "execution_count": 20,
   "id": "c2639cdc",
   "metadata": {},
   "outputs": [
    {
     "name": "stdout",
     "output_type": "stream",
     "text": [
      "0\n"
     ]
    }
   ],
   "source": [
    "def square(n):\n",
    "    for i in range(3):\n",
    "        yield i**2\n",
    "\n",
    "a= square(3)\n",
    "try:\n",
    "    print(next(a))\n",
    "except StopIteration:\n",
    "    print(\"There are no other elements uin the generators\")"
   ]
  },
  {
   "cell_type": "code",
   "execution_count": 22,
   "id": "e4a3b758",
   "metadata": {},
   "outputs": [],
   "source": [
    "def my_generator():\n",
    "    yield 1   # the most amazing thing about the generator is that we can return multiple yield values\n",
    "    yield 2\n",
    "    yield 3\n",
    "    yield 4"
   ]
  },
  {
   "cell_type": "code",
   "execution_count": 23,
   "id": "b1c97e1e",
   "metadata": {},
   "outputs": [
    {
     "data": {
      "text/plain": [
       "<generator object my_generator at 0x00000138BA26C0F0>"
      ]
     },
     "execution_count": 23,
     "metadata": {},
     "output_type": "execute_result"
    }
   ],
   "source": [
    "gen= my_generator()\n",
    "gen"
   ]
  },
  {
   "cell_type": "code",
   "execution_count": 28,
   "id": "a08c5319",
   "metadata": {},
   "outputs": [
    {
     "ename": "StopIteration",
     "evalue": "",
     "output_type": "error",
     "traceback": [
      "\u001b[31m---------------------------------------------------------------------------\u001b[39m",
      "\u001b[31mStopIteration\u001b[39m                             Traceback (most recent call last)",
      "\u001b[36mCell\u001b[39m\u001b[36m \u001b[39m\u001b[32mIn[28]\u001b[39m\u001b[32m, line 1\u001b[39m\n\u001b[32m----> \u001b[39m\u001b[32m1\u001b[39m \u001b[38;5;28;43mnext\u001b[39;49m\u001b[43m(\u001b[49m\u001b[43mgen\u001b[49m\u001b[43m)\u001b[49m\n",
      "\u001b[31mStopIteration\u001b[39m: "
     ]
    }
   ],
   "source": [
    "next(gen)"
   ]
  },
  {
   "cell_type": "code",
   "execution_count": 29,
   "id": "73864557",
   "metadata": {},
   "outputs": [],
   "source": [
    "###Paractical Example:  Reading Large files:\n",
    "\n",
    "def read_large_file(file_path):\n",
    "    with open(file_path, 'r') as file:\n",
    "        for line in file:\n",
    "            yield line"
   ]
  },
  {
   "cell_type": "code",
   "execution_count": 30,
   "id": "4a3c41f3",
   "metadata": {},
   "outputs": [
    {
     "name": "stdout",
     "output_type": "stream",
     "text": [
      "Vrinda Store Sales Analysis\n",
      "•\tAnalyzed retail sales data to derive insights on customer behavior and product performance\n",
      "•\tDesigned interactive Power BI dashboards using calculated columns, DAX, and measures\n",
      "Supported business recommendations with data AREEBA SARWAR\n",
      "Email: areebasarwar58@gmail.com\n",
      "\n",
      "\n",
      "\n",
      "ABOUT\n",
      "\n",
      "I am Computer Systems Engineer with a strong foundation in data analytics, business intelligence, and cloud tools like Azure. I have led multiple data-focused projects involving data collection, cleaning, visualization, and dashboard creation using tools such as Power BI, Looker Studio, Excel, and Python. My experience includes delivering actionable insights through interactive dashboards and reports, as well as presenting data stories to stakeholders. I am passionate about turning raw data into strategic decisions and making meaningful contributions to business operations.\n",
      "\n",
      "EDUCATION\n",
      "•\tUniversity of Engineering and Technology (Nov 2021 – June 2025)\n",
      "BSc. Computer Systems Engineering\n",
      "•\tPeace Group of Schools and College ATD (2019 – 2021)\n",
      "Intermediate in Computer Science\n",
      "•\tPeace Group of Schools and College (2017 – 2019)\n",
      "Matriculation\n",
      "EXPERIENCE\n",
      "Navttc Power BI Training(July 2024- Sep2024)\n",
      "•\tGained hands-on experience in data cleaning, modeling, DAX, and dashboard creation using Power BI\n",
      "•\tBuilt interactive dashboards and reports using real-world datasets\n",
      "•\tTransformed business problems into data-driven insights to support strategic decisions\n",
      "K2x-Tech Internship( July2023- Sep2023)\n",
      "•\tAssisted in enhancing UI components and supported data-focused web features using HTML, CSS, and JavaScript\n",
      "PROJECTS\n",
      "•\ttrends and visual summarie\n",
      "Marketing Campaign Analytics\n",
      "•\tConducted performance analysis of marketing campaigns using Power BI\n",
      "•\tDeveloped reports tracking conversions, impressions, and engagement metrics\n",
      "•\tPresented monthly executive reports with strategic recommendations\n",
      "Website Traffic Report – Looker Studio\n",
      "•\tIntegrated Google Analytics data into Looker Studio for real-time web traffic dashboards\n",
      "•\tVisualized user behavior, bounce rate, and session sources to assist SEO and UX teams\n",
      "•\tShared automated weekly summaries with stakeholders\n",
      "Shadow Removal from Satellite Imagery using GANs\n",
      "•\tThough AI-focused, project involved data preprocessing, transformation, and evaluation of large image datasets\n",
      "•\tDocumented insights and methodology for academic presentation and reporting.\n",
      "SKILLS\n",
      "•\tData Analytics & BI Tools: Power BI, Looker Studio, Excel, Google Sheets, DAX, SQL, Azure\n",
      "•\tProgramming: Python, SQL, Pandas, NumPy, Matplotlib\n",
      "•\tVisualization & Reporting: Dashboards, KPIs, Report Summaries, DAX Measures\n",
      "•\tSoft Skills: Data Storytelling, Communication, Problem Solving, Project Leadership\n",
      "•\tTools: Jupyter Notebook, Google Colab, GitHub, VS Code\n",
      "CERTIFICATIONS\n",
      "•\tNAVTTC Power BI Course | Data Analysis & Visualization (Jul 2024 - Sep 2024)\n",
      "•\tNAVTTC AI/ML/DL Course (Mar 2025 - Jun 2025)\n",
      "•\tMeta Front-End Developer Professional Certificate (Coursera, 2023)\n",
      "\n",
      "LEADERSHIP & EXTRACURRICULAR\n",
      "•\tHosted Power BI Virtual Session: Delivered a comprehensive webinar session covering data cleaning, modeling, and visualization for aspiring analysts.\n",
      "•\tExecutive Member, Computer Society: Have been the part of computer society, Tech community in University.\n",
      "•\tOrganizer, Convocation 2023 & Tech Events: Organized convocation and other tech events, Ignite Tech event 2024.\n",
      "•\tOrganizer, ICCIIOT 2024 & ICTIS 2025: Organizer of International conferences at UET Peshawar like ICCIIOT & ICTIS.\n",
      "\n"
     ]
    }
   ],
   "source": [
    "file_path= 'large_file.txt'\n",
    "\n",
    "for line in read_large_file(file_path):\n",
    "    print(line.strip())\n"
   ]
  },
  {
   "cell_type": "code",
   "execution_count": null,
   "id": "89a55a67",
   "metadata": {},
   "outputs": [],
   "source": []
  }
 ],
 "metadata": {
  "kernelspec": {
   "display_name": "Python 3",
   "language": "python",
   "name": "python3"
  },
  "language_info": {
   "codemirror_mode": {
    "name": "ipython",
    "version": 3
   },
   "file_extension": ".py",
   "mimetype": "text/x-python",
   "name": "python",
   "nbconvert_exporter": "python",
   "pygments_lexer": "ipython3",
   "version": "3.13.5"
  }
 },
 "nbformat": 4,
 "nbformat_minor": 5
}
