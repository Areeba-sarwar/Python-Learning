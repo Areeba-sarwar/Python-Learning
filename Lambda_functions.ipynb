{
 "cells": [
  {
   "cell_type": "markdown",
   "id": "ae3c200b",
   "metadata": {},
   "source": [
    "Lambda Functions:"
   ]
  },
  {
   "cell_type": "markdown",
   "id": "68c8d79b",
   "metadata": {},
   "source": [
    "Lambda Functions are the small, anonymous functions defined by using lambda keyword. they can have any numberr of arguments but can have only one expression"
   ]
  },
  {
   "cell_type": "code",
   "execution_count": 4,
   "id": "41e41b5b",
   "metadata": {},
   "outputs": [
    {
     "name": "stdout",
     "output_type": "stream",
     "text": [
      "11\n"
     ]
    }
   ],
   "source": [
    "addition=lambda a,b:a+b\n",
    "print(addition(5,6))"
   ]
  },
  {
   "cell_type": "code",
   "execution_count": 9,
   "id": "c7f32018",
   "metadata": {},
   "outputs": [
    {
     "name": "stdout",
     "output_type": "stream",
     "text": [
      "True\n",
      "False\n"
     ]
    }
   ],
   "source": [
    "#Want to check if num is even or odd\n",
    "is_even= lambda num: num%2==0\n",
    "print(is_even(2))\n",
    "print(is_even(7))\n"
   ]
  }
 ],
 "metadata": {
  "kernelspec": {
   "display_name": "Python 3",
   "language": "python",
   "name": "python3"
  },
  "language_info": {
   "codemirror_mode": {
    "name": "ipython",
    "version": 3
   },
   "file_extension": ".py",
   "mimetype": "text/x-python",
   "name": "python",
   "nbconvert_exporter": "python",
   "pygments_lexer": "ipython3",
   "version": "3.13.5"
  }
 },
 "nbformat": 4,
 "nbformat_minor": 5
}
