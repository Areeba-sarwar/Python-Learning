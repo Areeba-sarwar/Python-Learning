{
 "cells": [
  {
   "cell_type": "code",
   "execution_count": 1,
   "id": "1872470e",
   "metadata": {},
   "outputs": [
    {
     "data": {
      "text/plain": [
       "range(0, 5)"
      ]
     },
     "execution_count": 1,
     "metadata": {},
     "output_type": "execute_result"
    }
   ],
   "source": [
    "range(5)"
   ]
  },
  {
   "cell_type": "code",
   "execution_count": 2,
   "id": "3926f310",
   "metadata": {},
   "outputs": [
    {
     "name": "stdout",
     "output_type": "stream",
     "text": [
      "0\n",
      "1\n",
      "2\n",
      "3\n",
      "4\n"
     ]
    }
   ],
   "source": [
    "for i in range(5):\n",
    "    print(i)"
   ]
  },
  {
   "cell_type": "code",
   "execution_count": null,
   "id": "c54bab56",
   "metadata": {},
   "outputs": [
    {
     "name": "stdout",
     "output_type": "stream",
     "text": [
      "1\n",
      "2\n",
      "3\n",
      "4\n"
     ]
    }
   ],
   "source": [
    "#It will print number between 1 and 5\n",
    "for i in range(1,5):\n",
    "    print(i)"
   ]
  },
  {
   "cell_type": "code",
   "execution_count": 5,
   "id": "d36b178f",
   "metadata": {},
   "outputs": [
    {
     "name": "stdout",
     "output_type": "stream",
     "text": [
      "1\n",
      "3\n",
      "5\n",
      "7\n",
      "9\n"
     ]
    }
   ],
   "source": [
    "#it will print numbers between 1 and 10 with the difference of 2\n",
    "for i in range(1,10,2):\n",
    "    print(i)"
   ]
  },
  {
   "cell_type": "code",
   "execution_count": 6,
   "id": "3f8b93c8",
   "metadata": {},
   "outputs": [
    {
     "name": "stdout",
     "output_type": "stream",
     "text": [
      "A\n",
      "r\n",
      "e\n",
      "e\n",
      "b\n",
      "a\n"
     ]
    }
   ],
   "source": [
    "string= \"Areeba\"\n",
    "for i in string:\n",
    "    print(i)"
   ]
  },
  {
   "cell_type": "code",
   "execution_count": 9,
   "id": "0db1950a",
   "metadata": {},
   "outputs": [
    {
     "name": "stdout",
     "output_type": "stream",
     "text": [
      "Hello world\n",
      "Hello world\n",
      "Hello world\n",
      "Hello world\n",
      "Hello world\n"
     ]
    }
   ],
   "source": [
    "#While Loop\n",
    "#While loop continues untill the condition is true\n",
    "count= 0\n",
    "while count<5:\n",
    "    print(\"Hello world\")\n",
    "    count= count+1\n",
    "    \n"
   ]
  },
  {
   "cell_type": "code",
   "execution_count": 10,
   "id": "2068e3a6",
   "metadata": {},
   "outputs": [
    {
     "name": "stdout",
     "output_type": "stream",
     "text": [
      "0\n",
      "1\n",
      "2\n",
      "3\n",
      "4\n"
     ]
    }
   ],
   "source": [
    "for i in range(10):\n",
    "    if(i==5):\n",
    "        break\n",
    "    print(i)"
   ]
  },
  {
   "cell_type": "code",
   "execution_count": 11,
   "id": "9421f364",
   "metadata": {},
   "outputs": [
    {
     "name": "stdout",
     "output_type": "stream",
     "text": [
      "1\n",
      "3\n",
      "5\n",
      "7\n",
      "9\n"
     ]
    }
   ],
   "source": [
    "#Continue\n",
    "for i in range(10):\n",
    "    if(i%2==0):\n",
    "        continue\n",
    "    print(i)"
   ]
  },
  {
   "cell_type": "code",
   "execution_count": 12,
   "id": "a5507c47",
   "metadata": {},
   "outputs": [
    {
     "name": "stdout",
     "output_type": "stream",
     "text": [
      "Heloowww\n",
      "Heloowww\n",
      "Heloowww\n",
      "Heloowww\n",
      "Heloowww\n",
      "Heloowww\n",
      "Heloowww\n",
      "Heloowww\n",
      "Heloowww\n",
      "Heloowww\n",
      "Heloowww\n",
      "Heloowww\n"
     ]
    }
   ],
   "source": [
    "#Nested Loop\n",
    "for i in range(4):\n",
    "    for j in range(3):\n",
    "        print(\"Heloowww\")"
   ]
  },
  {
   "cell_type": "code",
   "execution_count": 16,
   "id": "75e554f4",
   "metadata": {},
   "outputs": [
    {
     "name": "stdout",
     "output_type": "stream",
     "text": [
      "I am odd number and terminating the loop\n",
      "I am odd number and terminating the loop\n",
      "I am odd number and terminating the loop\n",
      "I am odd number and terminating the loop\n"
     ]
    }
   ],
   "source": [
    "#Nested Loop\n",
    "num= int(input(\"Enter a number\"))\n",
    "for i in range(4):\n",
    "    for i in range(2):\n",
    "        if(num%2==0):\n",
    "            print(\"I am even number\")\n",
    "        else:\n",
    "            print(\"I am odd number and terminating the loop\")\n",
    "            break"
   ]
  },
  {
   "cell_type": "code",
   "execution_count": null,
   "id": "df67ca2e",
   "metadata": {},
   "outputs": [
    {
     "name": "stdout",
     "output_type": "stream",
     "text": [
      "The sum of first ten natural number is: 55\n"
     ]
    }
   ],
   "source": [
    "##Calculate the sum of First ten natural number\n",
    "n= 10\n",
    "sum= 0\n",
    "count= 1\n",
    "while count<=10:\n",
    "    sum= sum+count\n",
    "    count= count+1\n",
    "print(\"The sum of first ten natural number is:\" sum)\n"
   ]
  },
  {
   "cell_type": "code",
   "execution_count": 4,
   "id": "d4afa763",
   "metadata": {},
   "outputs": [
    {
     "name": "stdout",
     "output_type": "stream",
     "text": [
      "0\n",
      "1\n",
      "2\n",
      "3\n",
      "4\n",
      "5\n",
      "6\n",
      "7\n",
      "8\n",
      "9\n"
     ]
    }
   ],
   "source": [
    "#Print first ten natural number\n",
    "n=0\n",
    "for n in range(10):\n",
    "    print(n)\n",
    "    n= n+1"
   ]
  },
  {
   "cell_type": "code",
   "execution_count": 5,
   "id": "059861ad",
   "metadata": {},
   "outputs": [
    {
     "name": "stdout",
     "output_type": "stream",
     "text": [
      "Sum of first 10 natural number is: 45\n"
     ]
    }
   ],
   "source": [
    "#print Sum of 10 natural number\n",
    "n=0\n",
    "sum=0\n",
    "for n in range(10):\n",
    "    sum=sum+n\n",
    "    n=n+1\n",
    "print(\"Sum of first 10 natural number is:\", sum)"
   ]
  },
  {
   "cell_type": "code",
   "execution_count": 1,
   "id": "c3f6f664",
   "metadata": {},
   "outputs": [
    {
     "name": "stdout",
     "output_type": "stream",
     "text": [
      "2\n",
      "3\n",
      "5\n",
      "7\n",
      "11\n",
      "13\n",
      "17\n",
      "19\n",
      "23\n",
      "29\n",
      "31\n",
      "37\n",
      "41\n",
      "43\n",
      "47\n",
      "53\n",
      "59\n",
      "61\n",
      "67\n",
      "71\n",
      "73\n",
      "79\n",
      "83\n",
      "89\n",
      "97\n"
     ]
    }
   ],
   "source": [
    "#Print prime numbers between 1 and 100\n",
    "for num in range(1,101):\n",
    "    if num>1:\n",
    "        for i in range(2,num):\n",
    "            if num%i==0:\n",
    "                break\n",
    "        else:\n",
    "            print(num)\n"
   ]
  },
  {
   "cell_type": "code",
   "execution_count": null,
   "id": "a527dc86",
   "metadata": {},
   "outputs": [],
   "source": []
  }
 ],
 "metadata": {
  "kernelspec": {
   "display_name": "Python 3",
   "language": "python",
   "name": "python3"
  },
  "language_info": {
   "codemirror_mode": {
    "name": "ipython",
    "version": 3
   },
   "file_extension": ".py",
   "mimetype": "text/x-python",
   "name": "python",
   "nbconvert_exporter": "python",
   "pygments_lexer": "ipython3",
   "version": "3.13.5"
  }
 },
 "nbformat": 4,
 "nbformat_minor": 5
}
