{
 "cells": [
  {
   "cell_type": "code",
   "execution_count": 1,
   "id": "570d20cd",
   "metadata": {},
   "outputs": [
    {
     "name": "stdout",
     "output_type": "stream",
     "text": [
      "0 is even number\n"
     ]
    }
   ],
   "source": [
    "#why Functions\n",
    "num=0\n",
    "if num%2==0:\n",
    "    print(num, \"is even number\")\n",
    "else:\n",
    "    print(num, \"is an odd number\")"
   ]
  },
  {
   "cell_type": "code",
   "execution_count": 2,
   "id": "d47cffe7",
   "metadata": {},
   "outputs": [],
   "source": [
    "#DEfining a function\n",
    "def even_or_odd(num):\n",
    "    if num%2==0:\n",
    "        print(\"The number you enterd is an even number\")\n",
    "    else:\n",
    "        print(\"The number you entered is an odd number\")"
   ]
  },
  {
   "cell_type": "code",
   "execution_count": 3,
   "id": "8fd2155a",
   "metadata": {},
   "outputs": [
    {
     "name": "stdout",
     "output_type": "stream",
     "text": [
      "The number you entered is an odd number\n"
     ]
    }
   ],
   "source": [
    "#Calling a Function\n",
    "even_or_odd(27)"
   ]
  },
  {
   "cell_type": "code",
   "execution_count": 4,
   "id": "afcce2bb",
   "metadata": {},
   "outputs": [],
   "source": [
    "#Functions with multiple parameters\n",
    "def add(a,b):\n",
    "    c= a+b\n",
    "    return c"
   ]
  },
  {
   "cell_type": "code",
   "execution_count": 5,
   "id": "8008832c",
   "metadata": {},
   "outputs": [
    {
     "data": {
      "text/plain": [
       "5"
      ]
     },
     "execution_count": 5,
     "metadata": {},
     "output_type": "execute_result"
    }
   ],
   "source": [
    "add(2,3)"
   ]
  },
  {
   "cell_type": "code",
   "execution_count": 8,
   "id": "65a2f83f",
   "metadata": {},
   "outputs": [
    {
     "name": "stdout",
     "output_type": "stream",
     "text": [
      "Hello Areeba! Welcome to our podcast\n"
     ]
    }
   ],
   "source": [
    " ##Default Parameters\n",
    "def greet(name= \"Guest\"): \n",
    "    print(f\"Hello {name}! Welcome to our podcast\")\n",
    "\n",
    "greet(\"Areeba\")"
   ]
  },
  {
   "cell_type": "code",
   "execution_count": 1,
   "id": "dc26db0b",
   "metadata": {},
   "outputs": [
    {
     "name": "stdout",
     "output_type": "stream",
     "text": [
      "1\n",
      "2\n",
      "3\n",
      "4\n",
      "5\n",
      "6\n",
      "Hello Areeba\n",
      "7\n",
      "8\n",
      "9\n"
     ]
    }
   ],
   "source": [
    " ##Variable Length Arguments\n",
    "##Positional Arguments\n",
    "\n",
    "def Add(*args):\n",
    "    for number in args:\n",
    "        print(number)\n",
    "    \n",
    "Add(1,2,3,4,5,6,\"Hello Areeba\", 7,8,9)"
   ]
  },
  {
   "cell_type": "code",
   "execution_count": 12,
   "id": "15b3f2d4",
   "metadata": {},
   "outputs": [
    {
     "name": "stdout",
     "output_type": "stream",
     "text": [
      "name: Areeba\n",
      "age: 21\n",
      "Section: B\n"
     ]
    }
   ],
   "source": [
    "#Keyword Arguments\n",
    "def print_details(**kwargs):\n",
    "    for key, value in kwargs.items():\n",
    "        print(f\"{key}: {value}\")\n",
    "\n",
    "print_details(name= \"Areeba\", age= 21, Section= \"B\")"
   ]
  },
  {
   "cell_type": "code",
   "execution_count": 17,
   "id": "70a71d4a",
   "metadata": {},
   "outputs": [
    {
     "name": "stdout",
     "output_type": "stream",
     "text": [
      "Positional Arguements are: 1\n",
      "Positional Arguements are: 2\n",
      "Positional Arguements are: 3\n",
      "name: Abu bakar\n",
      "age: 14\n",
      "city: Abbottabad\n"
     ]
    }
   ],
   "source": [
    "#Defining Postional and Keyword arguments together\n",
    "def together(*args, **kwargs):\n",
    "    for values in args:\n",
    "        print(f\"Positional Arguements are: {values}\")\n",
    "    for key, value in kwargs.items():\n",
    "        print(f\"{key}: {value}\")\n",
    "\n",
    "together(1,2,3,name= \"Abu bakar\",age= 14,city=\"Abbottabad\")"
   ]
  },
  {
   "cell_type": "markdown",
   "id": "c9c3e306",
   "metadata": {},
   "source": [
    "Paractical Examples:"
   ]
  },
  {
   "cell_type": "code",
   "execution_count": 2,
   "id": "8e829843",
   "metadata": {},
   "outputs": [
    {
     "data": {
      "text/plain": [
       "152.6"
      ]
     },
     "execution_count": 2,
     "metadata": {},
     "output_type": "execute_result"
    }
   ],
   "source": [
    "#Temperature Conversion:\n",
    "def temp_conversion(temp, unit):\n",
    "    if unit== 'C':\n",
    "        return (temp * 9/5) + 32\n",
    "    elif unit== 'F':\n",
    "        return (temp -32) * 5/9\n",
    "    else:\n",
    "        print(\"You entered wrong Informnation\")\n",
    "    \n",
    "temp_conversion(67, 'C')\n"
   ]
  },
  {
   "cell_type": "code",
   "execution_count": 7,
   "id": "338fd585",
   "metadata": {},
   "outputs": [
    {
     "name": "stdout",
     "output_type": "stream",
     "text": [
      "False\n",
      "False\n",
      "True\n"
     ]
    }
   ],
   "source": [
    "#Password strength Checker\n",
    "def is_strong_password(password):\n",
    "    if len(password)<8:\n",
    "        return False\n",
    "    if not any(char.isdigit() for char in password):\n",
    "        return False\n",
    "    if not any(char.islower() for char in password):\n",
    "        return False\n",
    "    if not any(char.isupper() for char in password):\n",
    "        return False\n",
    "    if not any(char in '!@#$%&^_'for char in password):\n",
    "        return False\n",
    "    return True\n",
    "\n",
    "\n",
    "#Calling the Function\n",
    "print(is_strong_password(\"Areeba2003\"))\n",
    "print(is_strong_password(\"areeba$35\"))\n",
    "print(is_strong_password(\"Areeba$345\"))"
   ]
  },
  {
   "cell_type": "code",
   "execution_count": 5,
   "id": "7085c936",
   "metadata": {},
   "outputs": [
    {
     "name": "stdout",
     "output_type": "stream",
     "text": [
      "Total cost of the Cart is: 722.0\n"
     ]
    }
   ],
   "source": [
    "#Calculate the total cost of items in the cart\n",
    "cart=[\n",
    "    {'name': 'Apple', 'price': 0.5, 'quantity': 4},\n",
    "    {'name': 'Banana', 'price': 40, 'quantity': 6},\n",
    "    {'name': 'Oranges', 'price': 30, 'quantity': 8},\n",
    "    {'name': 'Mangoes', 'price': 20, 'quantity': 12}\n",
    "]\n",
    "def total_cost(cart):\n",
    "    totalcost=0\n",
    "    for items in cart:\n",
    "        totalcost= totalcost+items['price']* items['quantity']\n",
    "    return totalcost\n",
    "\n",
    "\n",
    "totalcost= total_cost(cart)\n",
    "print(\"Total cost of the Cart is:\", totalcost)"
   ]
  },
  {
   "cell_type": "code",
   "execution_count": 9,
   "id": "81519168",
   "metadata": {},
   "outputs": [
    {
     "name": "stdout",
     "output_type": "stream",
     "text": [
      "areeba is not palindrome\n"
     ]
    }
   ],
   "source": [
    "#Checke if the string is palindrome\n",
    "def is_string_palindrome(string):\n",
    "    string= string.lower().replace(\" \",\"\")\n",
    "    if string ==string[::-1]:\n",
    "        print(string, \"is palindrome\")\n",
    "    else:\n",
    "        print(string, \"is not palindrome\")\n",
    "\n",
    "is_string_palindrome(\"Areeba\")"
   ]
  },
  {
   "cell_type": "code",
   "execution_count": 10,
   "id": "ebe4ac71",
   "metadata": {},
   "outputs": [
    {
     "name": "stdout",
     "output_type": "stream",
     "text": [
      "The factorial of the number you entered is: 720\n"
     ]
    }
   ],
   "source": [
    "#Calculate the factorial of the number using Recursion\n",
    "def factorial(n):\n",
    "    if n==0:\n",
    "        return 1\n",
    "    else:\n",
    "        return n*factorial(n-1)\n",
    "\n",
    "\n",
    "result= factorial(6)\n",
    "print(\"The factorial of the number you entered is:\", result)\n"
   ]
  },
  {
   "cell_type": "code",
   "execution_count": 12,
   "id": "490e2bf8",
   "metadata": {},
   "outputs": [
    {
     "name": "stdout",
     "output_type": "stream",
     "text": [
      "{'pandas': 1, 'numpy': 1, 'seaborn': 1, 'matplotlib': 1, 'scipy': 1, 'scikit-learn': 1}\n"
     ]
    }
   ],
   "source": [
    "#A function to Read a file and calculate the frequency of the words\n",
    "def count_word_frequency(file_path):\n",
    "    word_count={}\n",
    "    with open(file_path, 'r')as file:\n",
    "        for line in file:\n",
    "            words= line.split()\n",
    "            for word in words:\n",
    "                word= word.lower().strip('.,!?;\"')\n",
    "                word_count[word]=word_count.get(word,0)+1\n",
    "    return word_count  \n",
    "\n",
    "filepath= 'requirements.txt'\n",
    "word_frequency=count_word_frequency(filepath)\n",
    "print( word_frequency)"
   ]
  },
  {
   "cell_type": "code",
   "execution_count": null,
   "id": "b1aed50e",
   "metadata": {},
   "outputs": [],
   "source": []
  }
 ],
 "metadata": {
  "kernelspec": {
   "display_name": "Python 3",
   "language": "python",
   "name": "python3"
  },
  "language_info": {
   "codemirror_mode": {
    "name": "ipython",
    "version": 3
   },
   "file_extension": ".py",
   "mimetype": "text/x-python",
   "name": "python",
   "nbconvert_exporter": "python",
   "pygments_lexer": "ipython3",
   "version": "3.13.5"
  }
 },
 "nbformat": 4,
 "nbformat_minor": 5
}
