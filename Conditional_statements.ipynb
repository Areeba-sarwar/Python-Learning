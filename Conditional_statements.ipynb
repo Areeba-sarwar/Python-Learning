{
 "cells": [
  {
   "cell_type": "code",
   "execution_count": 1,
   "id": "1e6bedf3",
   "metadata": {},
   "outputs": [
    {
     "name": "stdout",
     "output_type": "stream",
     "text": [
      "You are not allowed to pole a vote\n"
     ]
    }
   ],
   "source": [
    "#IF condition\n",
    "age=20\n",
    "if(age>18):\n",
    "    print(\"You are not allowed to pole a vote\")\n",
    "else:\n",
    "    print(\"You are allowed to pole\")"
   ]
  },
  {
   "cell_type": "code",
   "execution_count": 4,
   "id": "3f8b0e83",
   "metadata": {},
   "outputs": [
    {
     "name": "stdout",
     "output_type": "stream",
     "text": [
      "Try Next time, you can not pole a vote this year\n"
     ]
    }
   ],
   "source": [
    "#Elif Statement\n",
    "age= int(input('Enter your age:'))\n",
    "if(age>=18):\n",
    "    print(\"you can pole a vote\")\n",
    "elif(age<14):\n",
    "    print(\"you are child yet\")\n",
    "else:\n",
    "    print(\"Try Next time, you can not pole a vote this year\")"
   ]
  },
  {
   "cell_type": "code",
   "execution_count": 6,
   "id": "e39c5f53",
   "metadata": {},
   "outputs": [
    {
     "name": "stdout",
     "output_type": "stream",
     "text": [
      "You entered zero\n"
     ]
    }
   ],
   "source": [
    "##Nested Statements\n",
    "num= int(input(\"Enter a number\"))\n",
    "if(num>0):\n",
    "    print(\"The number you entered is a postive number\")\n",
    "    if(num%2==0):\n",
    "        print(\"The number you entered is an even number\")\n",
    "    else:\n",
    "        print(\"The number you entered is an odd number\")\n",
    "elif(num<0):\n",
    "    print(\"The number you entered is a negative number\")\n",
    "    if(num%2==0):\n",
    "        print(\"The number you entered is an even number\")\n",
    "    else:\n",
    "        print(\"The number you entered is an odd number\")\n",
    "else:\n",
    "    print(\"You entered zero\")"
   ]
  },
  {
   "cell_type": "code",
   "execution_count": 10,
   "id": "a1db3ca5",
   "metadata": {},
   "outputs": [
    {
     "name": "stdout",
     "output_type": "stream",
     "text": [
      "2025 is not a leap year\n"
     ]
    }
   ],
   "source": [
    "#Determine if the year is a leap year or not?\n",
    "year= int(input(\"Enter the Year\"))\n",
    "if(year%4==0):\n",
    "    if(year%100==0):\n",
    "        if(year%400==0):\n",
    "            print(year, \"is a leap year\")\n",
    "        else:\n",
    "            print(year, \"is not a leap year\")\n",
    "    else:\n",
    "        print(year, \"is a leap year\")\n",
    "else:\n",
    "    print(year, \"is not a leap year\")\n",
    "    "
   ]
  },
  {
   "cell_type": "code",
   "execution_count": 17,
   "id": "c704a04d",
   "metadata": {},
   "outputs": [
    {
     "name": "stdout",
     "output_type": "stream",
     "text": [
      "Result= -40\n"
     ]
    }
   ],
   "source": [
    "#Simple Calculator Program\n",
    "num1= int(input(\"Enter First number\"))\n",
    "num2= int(input(\"Enter second number\"))\n",
    "operation= input(\"Enter operation(+, -, *, /)\")\n",
    "if(operation=='+'):\n",
    "    result= num1+num2\n",
    "elif(operation== '-'):\n",
    "    result= num1-num2\n",
    "elif(operation== '*'):\n",
    "    result= num1 * num2\n",
    "elif(operation== '/'):\n",
    "    if(num2!=0):\n",
    "        result= num1/num2\n",
    "    else:\n",
    "        print(\"Error! Devision by zero\")\n",
    "else:\n",
    "    result= \"Invalid Operation\"\n",
    "print(\"Result=\", result)"
   ]
  },
  {
   "cell_type": "code",
   "execution_count": 2,
   "id": "7bab0ccd",
   "metadata": {},
   "outputs": [
    {
     "name": "stdout",
     "output_type": "stream",
     "text": [
      "Price = $20\n"
     ]
    }
   ],
   "source": [
    "#Determine the ticket price based on age and whether the person is a student\n",
    "age= int(input(\"Enter your age\"))\n",
    "is_student= input(\"Are you a student? (yes/no):\").lower()\n",
    "if age < 5:\n",
    "    price= \"Free\"\n",
    "elif(age<= 12):\n",
    "    price= \"$10\"\n",
    "elif(age<= 17):\n",
    "    if(is_student== 'yes'):\n",
    "        price= \"$12\"\n",
    "    else:\n",
    "        price= \"$15\"\n",
    "elif(age<= 64):\n",
    "    if(is_student== 'Yes'):\n",
    "        price= \"$18\"\n",
    "    else:\n",
    "        price= \"$25\"\n",
    "else:\n",
    "    price= \"$20\"\n",
    "print(\"Price =\", price)"
   ]
  },
  {
   "cell_type": "code",
   "execution_count": null,
   "id": "1659ea4d",
   "metadata": {},
   "outputs": [],
   "source": []
  }
 ],
 "metadata": {
  "kernelspec": {
   "display_name": "Python 3",
   "language": "python",
   "name": "python3"
  },
  "language_info": {
   "codemirror_mode": {
    "name": "ipython",
    "version": 3
   },
   "file_extension": ".py",
   "mimetype": "text/x-python",
   "name": "python",
   "nbconvert_exporter": "python",
   "pygments_lexer": "ipython3",
   "version": "3.13.5"
  }
 },
 "nbformat": 4,
 "nbformat_minor": 5
}
