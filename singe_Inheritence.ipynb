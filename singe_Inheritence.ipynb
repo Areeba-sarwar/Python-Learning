{
 "cells": [
  {
   "cell_type": "markdown",
   "id": "f1a4922c",
   "metadata": {},
   "source": [
    "Inheritence in python:"
   ]
  },
  {
   "cell_type": "markdown",
   "id": "f7075eb1",
   "metadata": {},
   "source": [
    "Inheritence in a python is a fundametal concept that allows a class to inherit attributes and methods from another class. It has two types: single inheritence, Multiple inheritence"
   ]
  },
  {
   "cell_type": "code",
   "execution_count": 6,
   "id": "f24a98e5",
   "metadata": {},
   "outputs": [
    {
     "name": "stdout",
     "output_type": "stream",
     "text": [
      "The person will drive the CNG car\n"
     ]
    }
   ],
   "source": [
    "class Car:\n",
    "    def __init__(self, windows, doors, engine_type):\n",
    "        self.windows= windows\n",
    "        self.doors= doors\n",
    "        self.engine_type= engine_type\n",
    "\n",
    "    def drive(self):\n",
    "        print(f\"The person will drive the {self.engine_type} car\")\n",
    "\n",
    "\n",
    "car1= Car(6,4, \"CNG\")\n",
    "car1.drive()\n",
    "      "
   ]
  },
  {
   "cell_type": "code",
   "execution_count": 12,
   "id": "479de0f1",
   "metadata": {},
   "outputs": [],
   "source": [
    "#Creating the chid class\n",
    "class Tesla(Car):\n",
    "    def __init__(self, windows, doors, engine_type, is_selfdriving):\n",
    "        super().__init__(windows, doors, engine_type)\n",
    "        self.is_selfdriving= is_selfdriving\n",
    "\n",
    "    def selfdriving(self):\n",
    "        print(f\"Tesla supports self Driving cars: {self.is_selfdriving}\")"
   ]
  },
  {
   "cell_type": "code",
   "execution_count": 13,
   "id": "e601b60e",
   "metadata": {},
   "outputs": [
    {
     "name": "stdout",
     "output_type": "stream",
     "text": [
      "Tesla supports self Driving cars: True\n"
     ]
    }
   ],
   "source": [
    "tesla1=Tesla(4,4,\"Electric\", True)\n",
    "tesla1.selfdriving()"
   ]
  }
 ],
 "metadata": {
  "kernelspec": {
   "display_name": "Python 3",
   "language": "python",
   "name": "python3"
  },
  "language_info": {
   "codemirror_mode": {
    "name": "ipython",
    "version": 3
   },
   "file_extension": ".py",
   "mimetype": "text/x-python",
   "name": "python",
   "nbconvert_exporter": "python",
   "pygments_lexer": "ipython3",
   "version": "3.13.5"
  }
 },
 "nbformat": 4,
 "nbformat_minor": 5
}
