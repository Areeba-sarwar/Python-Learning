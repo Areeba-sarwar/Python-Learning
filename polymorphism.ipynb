{
 "cells": [
  {
   "cell_type": "markdown",
   "id": "d09e5ced",
   "metadata": {},
   "source": [
    "Polymorphism:"
   ]
  },
  {
   "cell_type": "markdown",
   "id": "b63fe7a6",
   "metadata": {},
   "source": [
    "Polymorphism is a object oriented programming (oop) that allows objects of different classes to be treated as objects of common classes to be treated as objects of common superclass."
   ]
  },
  {
   "cell_type": "markdown",
   "id": "929b60c3",
   "metadata": {},
   "source": [
    "Method overriding:\n",
    "\n",
    "\n",
    "Method overrifing allows a child class to provide a specific implementation of method that is already defined in it's parent class"
   ]
  },
  {
   "cell_type": "code",
   "execution_count": 2,
   "id": "591f2143",
   "metadata": {},
   "outputs": [
    {
     "name": "stdout",
     "output_type": "stream",
     "text": [
      "woof\n",
      "Meoww\n"
     ]
    }
   ],
   "source": [
    "class Animal:\n",
    "    def speak(self):\n",
    "        return \"sound of the animal is:\"\n",
    "    \n",
    "#Derived class 1\n",
    "class Dog(Animal):\n",
    "    def speak(self):\n",
    "        return \"woof\"\n",
    "    \n",
    "\n",
    "#Derived class 2\n",
    "class Cat(Animal):\n",
    "    def speak(self):\n",
    "        return \"Meoww\"\n",
    "    \n",
    "dog= Dog()\n",
    "cat= Cat()\n",
    "print(dog.speak())\n",
    "print(cat.speak())\n"
   ]
  },
  {
   "cell_type": "code",
   "execution_count": null,
   "id": "79e7288a",
   "metadata": {},
   "outputs": [
    {
     "name": "stdout",
     "output_type": "stream",
     "text": [
      "15\n",
      "50.24\n"
     ]
    }
   ],
   "source": [
    "#Polymorphism with functions and methods:\n",
    "\n",
    "class shape:\n",
    "    def area(self):\n",
    "        return \"The area of the figure\"\n",
    "    \n",
    "#Derived class 1\n",
    "\n",
    "class Rectangle(shape):\n",
    "    def __init__(self,height, weight):\n",
    "        self.height= height\n",
    "        self.weight= weight\n",
    "\n",
    "    def area(self):\n",
    "        return self.weight * self.height\n",
    "    \n",
    "#Derived Classs 2\n",
    "class Circle(shape):\n",
    "    def __init__(self, radius):\n",
    "        self.radius= radius\n",
    "\n",
    "    def area(self):\n",
    "        return 3.14 * self.radius * self.radius\n",
    "    \n",
    "\n",
    "#Function That determine polymorphism:\n",
    "\n",
    "def print_Area(Shape):\n",
    "    print(\"The area is: {shape.area()} \")\n",
    "\n",
    "\n",
    "rectangle= Rectangle(3,5)\n",
    "circle= Circle(4)\n",
    "print(rectangle.area())\n",
    "print(circle.area())"
   ]
  },
  {
   "cell_type": "markdown",
   "id": "db09353f",
   "metadata": {},
   "source": [
    "Polymorphism with abstract base Classes:\n",
    "\n",
    "Abstract Base Classes are used to define common methods for group of related objects. They can enforce that derived classes implement particular methods, promoting consistency across different implementations.\n"
   ]
  },
  {
   "cell_type": "code",
   "execution_count": 5,
   "id": "b4d446aa",
   "metadata": {},
   "outputs": [
    {
     "name": "stdout",
     "output_type": "stream",
     "text": [
      "Car engine started\n",
      "Motorcycle Engine started\n"
     ]
    }
   ],
   "source": [
    "from abc import ABC, abstractmethod\n",
    "#Define an abstract class\n",
    "class vehicle(ABC):\n",
    "    @abstractmethod\n",
    "    def start_engine(self):\n",
    "        pass\n",
    "\n",
    "#Derived Class\n",
    "class car(vehicle):\n",
    "    def start_engine(self):\n",
    "        return \"Car engine started\"\n",
    "    \n",
    "##Derived Class 2\n",
    "class Motorcycle(vehicle):\n",
    "    def start_engine(self):\n",
    "        return \"Motorcycle Engine started\"\n",
    "    \n",
    "\n",
    "#Function that determines polymorphism\n",
    "def start_vehicle(vehicle):\n",
    "    print(vehicle.start_engine())\n",
    "\n",
    "#Create an object of car and motorcycle\n",
    "Car= car()\n",
    "motorcycle= Motorcycle()\n",
    "start_vehicle(Car)\n",
    "start_vehicle(motorcycle)"
   ]
  }
 ],
 "metadata": {
  "kernelspec": {
   "display_name": "Python 3",
   "language": "python",
   "name": "python3"
  },
  "language_info": {
   "codemirror_mode": {
    "name": "ipython",
    "version": 3
   },
   "file_extension": ".py",
   "mimetype": "text/x-python",
   "name": "python",
   "nbconvert_exporter": "python",
   "pygments_lexer": "ipython3",
   "version": "3.13.5"
  }
 },
 "nbformat": 4,
 "nbformat_minor": 5
}
