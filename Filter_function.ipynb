{
 "cells": [
  {
   "cell_type": "markdown",
   "id": "2c3a7d4e",
   "metadata": {},
   "source": [
    "Filter Function:"
   ]
  },
  {
   "cell_type": "markdown",
   "id": "4f17084f",
   "metadata": {},
   "source": [
    "It is used to filter out the output from the input function."
   ]
  },
  {
   "cell_type": "code",
   "execution_count": 7,
   "id": "bb1aaeb0",
   "metadata": {},
   "outputs": [
    {
     "data": {
      "text/plain": [
       "True"
      ]
     },
     "execution_count": 7,
     "metadata": {},
     "output_type": "execute_result"
    }
   ],
   "source": [
    "#even function\n",
    "def is_even(num):\n",
    "    if num%2==0:\n",
    "        return True\n",
    "\n",
    "is_even(56)"
   ]
  },
  {
   "cell_type": "code",
   "execution_count": 10,
   "id": "023f702e",
   "metadata": {},
   "outputs": [
    {
     "data": {
      "text/plain": [
       "[2, 4, 6, 8, 10]"
      ]
     },
     "execution_count": 10,
     "metadata": {},
     "output_type": "execute_result"
    }
   ],
   "source": [
    "#Now using filter function\n",
    "Lst= [1,2,3,4,5,6,7,8,9,10]\n",
    "list(filter(is_even,Lst))"
   ]
  },
  {
   "cell_type": "code",
   "execution_count": null,
   "id": "2f3b1dc4",
   "metadata": {},
   "outputs": [],
   "source": []
  }
 ],
 "metadata": {
  "kernelspec": {
   "display_name": "Python 3",
   "language": "python",
   "name": "python3"
  },
  "language_info": {
   "codemirror_mode": {
    "name": "ipython",
    "version": 3
   },
   "file_extension": ".py",
   "mimetype": "text/x-python",
   "name": "python",
   "nbconvert_exporter": "python",
   "pygments_lexer": "ipython3",
   "version": "3.13.5"
  }
 },
 "nbformat": 4,
 "nbformat_minor": 5
}
